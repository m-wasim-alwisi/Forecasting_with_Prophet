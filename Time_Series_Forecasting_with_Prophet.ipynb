{
  "cells": [
    {
      "cell_type": "code",
      "execution_count": 1,
      "metadata": {
        "id": "Tw7Bm78xEsc_"
      },
      "outputs": [
        {
          "name": "stderr",
          "output_type": "stream",
          "text": [
            "c:\\Users\\user\\anaconda3\\envs\\tf\\lib\\site-packages\\tqdm\\auto.py:21: TqdmWarning: IProgress not found. Please update jupyter and ipywidgets. See https://ipywidgets.readthedocs.io/en/stable/user_install.html\n",
            "  from .autonotebook import tqdm as notebook_tqdm\n"
          ]
        },
        {
          "name": "stdout",
          "output_type": "stream",
          "text": [
            "Warning: Looks like you're using an outdated `kagglehub` version, please consider updating (latest version: 0.3.13)\n",
            "Downloading from https://www.kaggle.com/api/v1/datasets/download/chirag19/air-passengers?dataset_version_number=1...\n"
          ]
        },
        {
          "name": "stderr",
          "output_type": "stream",
          "text": [
            "100%|██████████| 764/764 [00:00<00:00, 405kB/s]"
          ]
        },
        {
          "name": "stdout",
          "output_type": "stream",
          "text": [
            "Extracting model files...\n",
            "Data source import complete.\n"
          ]
        },
        {
          "name": "stderr",
          "output_type": "stream",
          "text": [
            "\n"
          ]
        }
      ],
      "source": [
        "# IMPORTANT: RUN THIS CELL IN ORDER TO IMPORT YOUR KAGGLE DATA SOURCES,\n",
        "# THEN FEEL FREE TO DELETE THIS CELL.\n",
        "# NOTE: THIS NOTEBOOK ENVIRONMENT DIFFERS FROM KAGGLE'S PYTHON\n",
        "# ENVIRONMENT SO THERE MAY BE MISSING LIBRARIES USED BY YOUR\n",
        "# NOTEBOOK.\n",
        "import kagglehub\n",
        "chirag19_air_passengers_path = kagglehub.dataset_download('chirag19/air-passengers')\n",
        "\n",
        "print('Data source import complete.')\n"
      ]
    },
    {
      "cell_type": "markdown",
      "metadata": {
        "id": "X490HmQuEsdJ"
      },
      "source": [
        "<a class=\"anchor\" id=\"0\"></a>\n",
        "# **Tutorial : Time Series Forecasting with Prophet**\n",
        "\n",
        "\n",
        "\n",
        "Hello friends,\n",
        "\n",
        "\n",
        "In the previous notebooks, we have discussed [Time Series Analysis with Python](https://www.kaggle.com/prashant111/complete-guide-on-time-series-analysis-in-python) and [ARIMA Model for Time Series Forecasting](https://www.kaggle.com/prashant111/arima-model-for-time-series-forecasting). In this notebook, we will make a time series forecast using Facebook’s time series model [Prophet](https://facebook.github.io/prophet/). First up, we will discuss [Prophet](https://facebook.github.io/prophet/),  its advantages and make a time series forecast with [Prophet](https://facebook.github.io/prophet/).\n",
        "\n",
        "\n",
        "So, let's get started."
      ]
    },
    {
      "cell_type": "markdown",
      "metadata": {
        "id": "jsD3ZZIBEsdM"
      },
      "source": [
        "### **I hope you find this notebook useful and your <font color=\"red\"><b>UPVOTES</b></font> keep me motivated.**\n",
        "\n"
      ]
    },
    {
      "cell_type": "markdown",
      "metadata": {
        "id": "ncyShnE-EsdN"
      },
      "source": [
        "<a class=\"anchor\" id=\"0.1\"></a>\n",
        "# **Table of Contents**\n",
        "\n",
        "\n",
        "1.\t[Introduction to Prophet](#1)\n",
        "2.\t[Advantages of Prophet](#2)\n",
        "3.\t[Installation of Prophet](#3)\n",
        "4.\t[Python API](#4)\n",
        "5.\t[Basic Setup](#5)\n",
        "6.\t[Time Series Forecasting with Prophet](#6)\n",
        "7.\t[Plotted the forecasted components](#7)\n",
        "8.\t[Adding ChangePoints to Prophet](#8)\n",
        "9.\t[Adjusting Trend](#9)\n",
        "10.\t[Conclusion](#10)\n",
        "11.\t [References](#11)\n",
        "\n"
      ]
    },
    {
      "cell_type": "markdown",
      "metadata": {
        "id": "sJphOJxNEsdO"
      },
      "source": [
        "# **1. Introduction to Prophet** <a class=\"anchor\" id=\"1\"></a>\n",
        "\n",
        "[Table of Contents](#0.1)\n",
        "\n",
        "\n",
        "The official [Prophet](https://facebook.github.io/prophet/) homepage states that-\n",
        "\n",
        "   *Prophet is a procedure for forecasting time series data based on an additive model where non-linear trends are fit with yearly, weekly, and daily seasonality, plus holiday effects. It works best with time series that have strong seasonal effects and several seasons of historical data. Prophet is robust to missing data and shifts in the trend, and typically handles outliers well.*\n",
        "\n",
        "   *Prophet is open source software released by Facebook’s Core Data Science team. It is available for download on CRAN and PyPI.*\n",
        "\n",
        "\n",
        "- So, [Prophet](https://facebook.github.io/prophet/) is the facebooks’ open source tool for making time series predictions.\n",
        "\n",
        "- [Prophet](https://facebook.github.io/prophet/) decomposes time series data into trend, seasonality and holiday effect.\n",
        "\n",
        "- **Trend** models non periodic changes in the time series data.\n",
        "\n",
        "- **Seasonality** is caused due to the periodic changes like daily, weekly, or yearly seasonality.\n",
        "\n",
        "- **Holiday effect** which occur on irregular schedules over a day or a period of days.\n",
        "\n",
        "- **Error terms** is what is not explained by the model.\n",
        "\n"
      ]
    },
    {
      "cell_type": "markdown",
      "metadata": {
        "id": "p8A5oLyWEsdP"
      },
      "source": [
        "# **2. Advantages of Prophet** <a class=\"anchor\" id=\"2\"></a>\n",
        "\n",
        "[Table of Contents](#0.1)\n",
        "\n",
        "\n",
        "\n",
        "[Prophet](https://facebook.github.io/prophet/) has several advantages associated with it. These are given below:-\n",
        "\n",
        "- **1. Accurate and fast** - Prophet is accurate and fast. It is used in many applications across Facebook for producing reliable forecasts for planning and goal setting.\n",
        "\n",
        "\n",
        "- **2. Fully automatic** - Prophet is fully automatic. We will get a reasonable forecast on messy data with no manual effort.\n",
        "\n",
        "\n",
        "- **3. Tunable forecasts** - Prophet produces adjustable forecasts. It includes many possibilities for users to tweak and adjust forecasts. We can use human-interpretable parameters to improve the forecast by adding our domain knowledge.\n",
        "\n",
        "\n",
        "- **4. Available in R or Python** - We can implement the Prophet procedure in R or Python.\n",
        "\n",
        "\n",
        "\n",
        "- **5. Handles seasonal variations well** - Prophet accommodates seasonality with multiple periods.\n",
        "\n",
        "\n",
        "\n",
        "- **6. Robust to outliers** - It is robust to outliers. It handles outliers by removing them.\n",
        "\n",
        "\n",
        "\n",
        "- **7. Robust to missing data** - Prophet is resilient to missing data."
      ]
    },
    {
      "cell_type": "markdown",
      "metadata": {
        "id": "F_23IAYLEsdP"
      },
      "source": [
        "# **3. Installation of Prophet** <a class=\"anchor\" id=\"3\"></a>\n",
        "\n",
        "\n",
        "[Table of Contents](#0.1)\n",
        "\n",
        "\n",
        "\n",
        "- We can install Prophet using either command prompt or Anaconda prompt using pip as follows-"
      ]
    },
    {
      "cell_type": "code",
      "execution_count": null,
      "metadata": {
        "id": "FS-oo9MSEsdQ",
        "trusted": true
      },
      "outputs": [],
      "source": [
        "!pip install fbprophet"
      ]
    },
    {
      "cell_type": "markdown",
      "metadata": {
        "id": "wsZHO1B7EsdS"
      },
      "source": [
        "# **4. Python API** <a class=\"anchor\" id=\"4\"></a>\n",
        "\n",
        "\n",
        "[Table of Contents](#0.1)\n",
        "\n",
        "\n",
        "- [Prophet](https://facebook.github.io/prophet/docs/quick_start.html#python-api) follows the sklearn model API.\n",
        "\n",
        "- First up, we create an instance of the Prophet class and then call its fit and predict methods.\n",
        "\n",
        "- **The input to Prophet is always a dataframe with two columns** - **ds** and **y**.\n",
        "\n",
        "- The **ds (datestamp)** column should be of a format expected by Pandas, ideally YYYY-MM-DD for a date or YYYY-MM-DD HH:MM:SS for a timestamp.\n",
        "\n",
        "- The **y** column must be numeric, and represents the measurement we wish to forecast."
      ]
    },
    {
      "cell_type": "markdown",
      "metadata": {
        "id": "Dwz19p7wEsdU"
      },
      "source": [
        "# **5. Basic Setup** <a class=\"anchor\" id=\"5\"></a>\n",
        "\n",
        "\n",
        "[Table of Contents](#0.1)\n",
        "\n",
        "\n",
        "- Now wel will dive right in and see how to make time series predictions using Prophet.\n",
        "\n",
        "- We will explore the change points, how to include holidays and then add multiple regressors.\n",
        "\n",
        "- First up, we will import the required libraries and the data."
      ]
    },
    {
      "cell_type": "markdown",
      "metadata": {
        "id": "3BPsjWVxEsdU"
      },
      "source": [
        "### **Import libraries**"
      ]
    },
    {
      "cell_type": "code",
      "execution_count": 1,
      "metadata": {
        "id": "Af33z9iXEsdV",
        "trusted": true
      },
      "outputs": [
        {
          "ename": "ModuleNotFoundError",
          "evalue": "No module named 'fbprophet'",
          "output_type": "error",
          "traceback": [
            "\u001b[1;31m---------------------------------------------------------------------------\u001b[0m",
            "\u001b[1;31mModuleNotFoundError\u001b[0m                       Traceback (most recent call last)",
            "Cell \u001b[1;32mIn[1], line 1\u001b[0m\n\u001b[1;32m----> 1\u001b[0m \u001b[38;5;28;01mfrom\u001b[39;00m\u001b[38;5;250m \u001b[39m\u001b[38;5;21;01mfbprophet\u001b[39;00m\u001b[38;5;250m \u001b[39m\u001b[38;5;28;01mimport\u001b[39;00m Prophet\n\u001b[0;32m      2\u001b[0m \u001b[38;5;28;01mfrom\u001b[39;00m\u001b[38;5;250m \u001b[39m\u001b[38;5;21;01mfbprophet\u001b[39;00m\u001b[38;5;21;01m.\u001b[39;00m\u001b[38;5;21;01mplot\u001b[39;00m\u001b[38;5;250m \u001b[39m\u001b[38;5;28;01mimport\u001b[39;00m plot_plotly\n\u001b[0;32m      3\u001b[0m \u001b[38;5;28;01mimport\u001b[39;00m\u001b[38;5;250m \u001b[39m\u001b[38;5;21;01mplotly\u001b[39;00m\u001b[38;5;21;01m.\u001b[39;00m\u001b[38;5;21;01moffline\u001b[39;00m\u001b[38;5;250m \u001b[39m\u001b[38;5;28;01mas\u001b[39;00m\u001b[38;5;250m \u001b[39m\u001b[38;5;21;01mpy\u001b[39;00m\n",
            "\u001b[1;31mModuleNotFoundError\u001b[0m: No module named 'fbprophet'"
          ]
        }
      ],
      "source": [
        "from fbprophet import Prophet\n",
        "from fbprophet.plot import plot_plotly\n",
        "import plotly.offline as py\n",
        "py.init_notebook_mode()"
      ]
    },
    {
      "cell_type": "code",
      "execution_count": null,
      "metadata": {
        "id": "liKETb0fEsdW",
        "trusted": true
      },
      "outputs": [],
      "source": [
        "import numpy as np\n",
        "import pandas as pd\n",
        "import matplotlib.pyplot as plt\n",
        "%matplotlib inline\n",
        "plt.style.use('fivethirtyeight')"
      ]
    },
    {
      "cell_type": "markdown",
      "metadata": {
        "id": "t32ZU1gFEsdW"
      },
      "source": [
        "### **Import data**"
      ]
    },
    {
      "cell_type": "code",
      "execution_count": null,
      "metadata": {
        "id": "rSPUAHUBEsdX",
        "trusted": true
      },
      "outputs": [],
      "source": [
        "# Input data files are available in the read-only \"../input/\" directory\n",
        "# For example, running this (by clicking run or pressing Shift+Enter) will list all files under the input directory\n",
        "\n",
        "import os\n",
        "for dirname, _, filenames in os.walk('/kaggle/input'):\n",
        "    for filename in filenames:\n",
        "        print(os.path.join(dirname, filename))\n"
      ]
    },
    {
      "cell_type": "code",
      "execution_count": null,
      "metadata": {
        "id": "CllLxH1fEsdX",
        "trusted": true
      },
      "outputs": [],
      "source": [
        "file = '/kaggle/input/air-passengers/AirPassengers.csv'\n",
        "\n",
        "df = pd.read_csv(file)"
      ]
    },
    {
      "cell_type": "markdown",
      "metadata": {
        "id": "KJ6YyDO1EsdX"
      },
      "source": [
        "### **Preview dataset**"
      ]
    },
    {
      "cell_type": "code",
      "execution_count": null,
      "metadata": {
        "id": "J-Tre-hXEsdY",
        "trusted": true
      },
      "outputs": [],
      "source": [
        "df.head()"
      ]
    },
    {
      "cell_type": "markdown",
      "metadata": {
        "id": "i7GaXZQ9EsdY"
      },
      "source": [
        "We should rename the column name `#Passenegrs` as `AirPassengers`"
      ]
    },
    {
      "cell_type": "code",
      "execution_count": null,
      "metadata": {
        "id": "kiMS_v6XEsdY",
        "trusted": true
      },
      "outputs": [],
      "source": [
        "df.rename(columns = {'#Passengers':'AirPassengers'}, inplace = True)"
      ]
    },
    {
      "cell_type": "markdown",
      "metadata": {
        "id": "QPkeQYctEsdY"
      },
      "source": [
        "### **Summary of dataset**\n",
        "\n",
        "\n",
        "\n",
        "Now, we will print the information about the dataset that will tell us about the columns, data type of the columns and whether the column is null or not null."
      ]
    },
    {
      "cell_type": "code",
      "execution_count": null,
      "metadata": {
        "id": "CPsQ2mRnEsdZ",
        "trusted": true
      },
      "outputs": [],
      "source": [
        "df.info()"
      ]
    },
    {
      "cell_type": "markdown",
      "metadata": {
        "id": "9VITL8AOEsdZ"
      },
      "source": [
        "- We can see that the dataset contains a `Month` and `AirPassengers` column.\n",
        "\n",
        "- Their data types are `object` and `int64` respectively.\n",
        "\n",
        "- The [Prophet](https://facebook.github.io/prophet/) library expects as input a dataframe with one column containing the time information, and another column containing the metric that we wish to forecast.\n",
        "\n",
        "- The important thing to note is that, the `Month` column must be of the datetime type. But, we can see that it is of `object` data type. Now, because the `Month` column is not of the datetime type. So, we’ll need to convert it into datetime type."
      ]
    },
    {
      "cell_type": "code",
      "execution_count": null,
      "metadata": {
        "id": "QXEEso2YEsdZ",
        "trusted": true
      },
      "outputs": [],
      "source": [
        "df['Month'] = pd.DatetimeIndex(df['Month'])\n",
        "df.dtypes"
      ]
    },
    {
      "cell_type": "markdown",
      "metadata": {
        "id": "I-yfOVZwEsda"
      },
      "source": [
        "We can now see that our `Month` column is of the correct datetime type."
      ]
    },
    {
      "cell_type": "markdown",
      "metadata": {
        "id": "t0_Ty4uNEsda"
      },
      "source": [
        "- [Prophet](https://facebook.github.io/prophet/) also imposes the strict condition that the input columns must be named as **ds (the time column)** and **y (the metric column)**.\n",
        "\n",
        "- So, we must rename the columns in our dataframe."
      ]
    },
    {
      "cell_type": "code",
      "execution_count": null,
      "metadata": {
        "id": "qd0aPT7NEsda",
        "trusted": true
      },
      "outputs": [],
      "source": [
        "df = df.rename(columns={'Month': 'ds',\n",
        "                        'AirPassengers': 'y'})\n",
        "\n",
        "df.head()"
      ]
    },
    {
      "cell_type": "markdown",
      "metadata": {
        "id": "_i5hY6GuEsda"
      },
      "source": [
        "We can see that the column names are renamed accordingly."
      ]
    },
    {
      "cell_type": "markdown",
      "metadata": {
        "id": "z4hGyFEkEsdb"
      },
      "source": [
        "### **Visualize the data**\n",
        "\n",
        "\n",
        "Now, it is considered a good practice to visualize the data at hand. So let’s plot our time series data:"
      ]
    },
    {
      "cell_type": "code",
      "execution_count": null,
      "metadata": {
        "id": "AVd-dI39Esdb",
        "trusted": true
      },
      "outputs": [],
      "source": [
        "ax = df.set_index('ds').plot(figsize=(12, 8))\n",
        "ax.set_ylabel('Monthly Number of Airline Passengers')\n",
        "ax.set_xlabel('Date')\n",
        "\n",
        "plt.show()"
      ]
    },
    {
      "cell_type": "markdown",
      "metadata": {
        "id": "CpbBvFvZEsdb"
      },
      "source": [
        "Now, our dataset is prepared and we are ready to use the Prophet library to produce forecasts of our time series."
      ]
    },
    {
      "cell_type": "markdown",
      "metadata": {
        "id": "qBdrI3jFEsdc"
      },
      "source": [
        "# **6. Time Series Forecasting with Prophet** <a class=\"anchor\" id=\"6\"></a>\n",
        "\n",
        "\n",
        "[Table of Contents](#0.1)\n",
        "\n",
        "\n",
        "- Now, we will describe how to use the [Prophet](https://facebook.github.io/prophet/) library to predict future values of our time series data.\n",
        "\n",
        "- The developers of [Prophet](https://facebook.github.io/prophet/) have made it more intuitive for analysts and developers alike to work with time series data.\n",
        "\n",
        "- To begin, we must instantiate a new Prophet object. Prophet enables us to specify a number of arguments. For example, we can specify the desired range of our uncertainty interval by setting the `interval_width parameter`.\n"
      ]
    },
    {
      "cell_type": "code",
      "execution_count": null,
      "metadata": {
        "id": "oa2oHApbEsdd",
        "trusted": true
      },
      "outputs": [],
      "source": [
        "# set the uncertainty interval to 95% (the Prophet default is 80%)\n",
        "my_model = Prophet(interval_width=0.95)"
      ]
    },
    {
      "cell_type": "markdown",
      "metadata": {
        "id": "nDc0ozarEsdd"
      },
      "source": [
        "- Now that our Prophet model has been initialized, we can call its `fit` method with our DataFrame as input."
      ]
    },
    {
      "cell_type": "code",
      "execution_count": null,
      "metadata": {
        "id": "ZerL5BR4Esdd",
        "trusted": true
      },
      "outputs": [],
      "source": [
        "my_model.fit(df)"
      ]
    },
    {
      "cell_type": "markdown",
      "metadata": {
        "id": "FC6TDmduEsde"
      },
      "source": [
        "- In order to obtain forecasts of our time series, we must provide Prophet with a new DataFrame containing a `ds` column that holds the dates for which we want predictions.\n",
        "\n",
        "- Conveniently, we do not have to concern ourselves with manually creating this DataFrame, as Prophet provides the `make_future_dataframe` helper function."
      ]
    },
    {
      "cell_type": "code",
      "execution_count": null,
      "metadata": {
        "id": "a1YNGoVtEsde",
        "trusted": true
      },
      "outputs": [],
      "source": [
        "future_dates = my_model.make_future_dataframe(periods=36, freq='MS')\n",
        "future_dates.head()"
      ]
    },
    {
      "cell_type": "markdown",
      "metadata": {
        "id": "aN9ArKJYEsdf"
      },
      "source": [
        "- In the code snippet above, we instructed Prophet to generate 36 datestamps in the future."
      ]
    },
    {
      "cell_type": "markdown",
      "metadata": {
        "id": "jHMeWN58Esdf"
      },
      "source": [
        "- When working with Prophet, it is important to consider the frequency of our time series.\n",
        "\n",
        "- Because we are working with monthly data, we clearly specified the desired frequency of the timestamps (in this case, `MS` is the start of the month).\n",
        "\n",
        "- Therefore, the `make_future_dataframe` generated 36 monthly timestamps for us.\n",
        "\n",
        "- In other words, we are looking to predict future values of our time series 3 years into the future."
      ]
    },
    {
      "cell_type": "markdown",
      "metadata": {
        "id": "KPnNr988Esdl"
      },
      "source": [
        "- The DataFrame of future dates is then used as input to the predict method of our fitted model."
      ]
    },
    {
      "cell_type": "code",
      "execution_count": null,
      "metadata": {
        "id": "_gDQKOH8Esdm",
        "trusted": true
      },
      "outputs": [],
      "source": [
        "forecast = my_model.predict(future_dates)\n",
        "forecast[['ds', 'yhat', 'yhat_lower', 'yhat_upper']].head()"
      ]
    },
    {
      "cell_type": "markdown",
      "metadata": {
        "id": "FvZnwzvJEsdm"
      },
      "source": [
        "Prophet returns a large DataFrame with many interesting columns, but we subset our output to the columns most relevant to forecasting. These are:\n",
        "\n",
        "  - **ds**: the datestamp of the forecasted value\n",
        "  - **yhat**: the forecasted value of our metric (in Statistics, yhat is a notation traditionally used to represent the predicted values of a value y)\n",
        "  - **yhat_lower**: the lower bound of our forecasts\n",
        "  - **yhat_upper**: the upper bound of our forecasts"
      ]
    },
    {
      "cell_type": "markdown",
      "metadata": {
        "id": "n0h3Ye-1Esdm"
      },
      "source": [
        "- A variation in values from the output presented is to be expected as Prophet relies on **Markov chain Monte Carlo (MCMC)** methods to generate its forecasts.\n",
        "\n",
        "- MCMC is a stochastic process, so values will be slightly different each time."
      ]
    },
    {
      "cell_type": "markdown",
      "metadata": {
        "id": "TPJAY3NXEsdm"
      },
      "source": [
        "- Prophet also provides a convenient function to quickly plot the results of our forecasts as follows:"
      ]
    },
    {
      "cell_type": "code",
      "execution_count": null,
      "metadata": {
        "id": "0_ifUN7mEsdm",
        "trusted": true
      },
      "outputs": [],
      "source": [
        "my_model.plot(forecast, uncertainty=True)"
      ]
    },
    {
      "cell_type": "markdown",
      "metadata": {
        "id": "t6P0qWXIEsdn"
      },
      "source": [
        "- Prophet plots the observed values of our time series (the black dots), the forecasted values (blue line) and the uncertainty intervals of our forecasts (the blue shaded regions)."
      ]
    },
    {
      "cell_type": "markdown",
      "metadata": {
        "id": "B9Jd4yBUEsdn"
      },
      "source": [
        "- One other particularly strong feature of Prophet is its ability to return the components of our forecasts.\n",
        "\n",
        "- This can help reveal how daily, weekly and yearly patterns of the time series contribute to the overall forecasted values."
      ]
    },
    {
      "cell_type": "code",
      "execution_count": null,
      "metadata": {
        "id": "WajtaLU2Esdn",
        "trusted": true
      },
      "outputs": [],
      "source": [
        "my_model.plot_components(forecast)"
      ]
    },
    {
      "cell_type": "markdown",
      "metadata": {
        "id": "6ur2vsbZEsdn"
      },
      "source": [
        "- The above plot provides interesting insights.\n",
        "\n",
        "- The first plot shows that the monthly volume of airline passengers has been linearly increasing over time.\n",
        "\n",
        "- The second plot highlights the fact that the weekly count of passengers peaks towards the end of the week and on Saturday.\n",
        "\n",
        "- The third plot shows that the most traffic occurs during the holiday months of July and August."
      ]
    },
    {
      "cell_type": "markdown",
      "metadata": {
        "id": "yrOVFx3bEsdn"
      },
      "source": [
        "# **7. Plotting the forecasted components** <a class=\"anchor\" id=\"7\"></a>\n",
        "\n",
        "\n",
        "[Table of Contents](#0.1)\n",
        "\n",
        "\n",
        "\n",
        "- We can plot the trend and seasonality, components of the forecast as follows:"
      ]
    },
    {
      "cell_type": "code",
      "execution_count": null,
      "metadata": {
        "id": "KXFLCxDyEsdo",
        "trusted": true
      },
      "outputs": [],
      "source": [
        "fig1 = my_model.plot_components(forecast)"
      ]
    },
    {
      "cell_type": "markdown",
      "metadata": {
        "id": "AiKuG-AsEsdo"
      },
      "source": [
        "# **8. Adding ChangePoints to Prophet** <a class=\"anchor\" id=\"8\"></a>\n",
        "\n",
        "\n",
        "[Table of Contents](#0.1)\n",
        "\n",
        "\n",
        "- Changepoints are the datetime points where the time series have abrupt changes in the trajectory.\n",
        "\n",
        "- By default, Prophet adds 25 changepoints to the initial 80% of the data-set.\n",
        "\n",
        "- Let’s plot the vertical lines where the potential changepoints occurred."
      ]
    },
    {
      "cell_type": "code",
      "execution_count": null,
      "metadata": {
        "id": "RMyZivUQEsdo",
        "trusted": true
      },
      "outputs": [],
      "source": [
        "from fbprophet.plot import add_changepoints_to_plot\n",
        "fig = my_model.plot(forecast)\n",
        "a = add_changepoints_to_plot(fig.gca(), my_model, forecast)"
      ]
    },
    {
      "cell_type": "markdown",
      "metadata": {
        "id": "VbBjyswEEsdp"
      },
      "source": [
        "We can view the dates where the chagepoints occurred."
      ]
    },
    {
      "cell_type": "code",
      "execution_count": null,
      "metadata": {
        "id": "adyPRPcxEsdp",
        "trusted": true
      },
      "outputs": [],
      "source": [
        "my_model.changepoints"
      ]
    },
    {
      "cell_type": "markdown",
      "metadata": {
        "id": "ksJsROTzEsdp"
      },
      "source": [
        "- We can change the inferred changepoint range by setting the *changepoint_range*"
      ]
    },
    {
      "cell_type": "code",
      "execution_count": null,
      "metadata": {
        "id": "I5KxRAlEEsdq",
        "trusted": true
      },
      "outputs": [],
      "source": [
        "pro_change= Prophet(changepoint_range=0.9)\n",
        "forecast = pro_change.fit(df).predict(future_dates)\n",
        "fig= pro_change.plot(forecast);\n",
        "a = add_changepoints_to_plot(fig.gca(), pro_change, forecast)"
      ]
    },
    {
      "cell_type": "markdown",
      "metadata": {
        "id": "rb748b5SEsdq"
      },
      "source": [
        "The number of changepoints can be set by using the *n_changepoints* parameter when initializing prophet."
      ]
    },
    {
      "cell_type": "code",
      "execution_count": null,
      "metadata": {
        "id": "hyTB1avEEsdq",
        "trusted": true
      },
      "outputs": [],
      "source": [
        "pro_change= Prophet(n_changepoints=20, yearly_seasonality=True)\n",
        "forecast = pro_change.fit(df).predict(future_dates)\n",
        "fig= pro_change.plot(forecast);\n",
        "a = add_changepoints_to_plot(fig.gca(), pro_change, forecast)"
      ]
    },
    {
      "cell_type": "markdown",
      "metadata": {
        "id": "kBVKZGxLEsdr"
      },
      "source": [
        "# **9. Adjusting Trend** <a class=\"anchor\" id=\"9\"></a>\n",
        "\n",
        "\n",
        "[Table of Contents](#0.1)\n",
        "\n",
        "\n",
        "- Prophet allows us to adjust the trend in case there is an overfit or underfit.\n",
        "\n",
        "- *changepoint_prior_scale* helps adjust the strength of the trend.\n",
        "\n",
        "- Default value for *changepoint_prior_scale* is 0.05.\n",
        "\n",
        "- Decrease the value to make the trend less flexible.\n",
        "\n",
        "- Increase the value of changepoint_prior_scale to make the trend more flexible.\n",
        "\n",
        "- Increasing the *changepoint_prior_scale* to 0.08 to make the trend flexible.\n"
      ]
    },
    {
      "cell_type": "code",
      "execution_count": null,
      "metadata": {
        "id": "wnOwuFYbEsdr",
        "trusted": true
      },
      "outputs": [],
      "source": [
        "pro_change= Prophet(n_changepoints=20, yearly_seasonality=True, changepoint_prior_scale=0.08)\n",
        "forecast = pro_change.fit(df).predict(future_dates)\n",
        "fig= pro_change.plot(forecast);\n",
        "a = add_changepoints_to_plot(fig.gca(), pro_change, forecast)"
      ]
    },
    {
      "cell_type": "markdown",
      "metadata": {
        "id": "YAdnntXeEsdr"
      },
      "source": [
        "- Decreasing the *changepoint_prior_scale* to 0.001 to make the trend less flexible."
      ]
    },
    {
      "cell_type": "code",
      "execution_count": null,
      "metadata": {
        "id": "EzAyuJA8Esdr",
        "trusted": true
      },
      "outputs": [],
      "source": [
        "pro_change= Prophet(n_changepoints=20, yearly_seasonality=True, changepoint_prior_scale=0.001)\n",
        "forecast = pro_change.fit(df).predict(future_dates)\n",
        "fig= pro_change.plot(forecast);\n",
        "a = add_changepoints_to_plot(fig.gca(), pro_change, forecast)"
      ]
    },
    {
      "cell_type": "markdown",
      "metadata": {
        "id": "d6R9SHUxEsds"
      },
      "source": [
        "# **10. Conclusion** <a class=\"anchor\" id=\"10\"></a>\n",
        "\n",
        "\n",
        "[Table of Contents](#0.1)\n",
        "\n",
        "\n",
        "- In this tutorial, we described how to use the Prophet library to perform time series forecasting in Python.\n",
        "\n",
        "- We have been using out-of-the box parameters, but Prophet enables us to specify many more arguments.\n",
        "\n",
        "- In particular, Prophet provides the functionality to bring your own knowledge about time series to the table."
      ]
    },
    {
      "cell_type": "markdown",
      "metadata": {
        "id": "C9xhZvnAEsds"
      },
      "source": [
        "# **11. References** <a class=\"anchor\" id=\"11\"></a>\n",
        "\n",
        "\n",
        "[Table of Contents](#0.1)\n",
        "\n",
        "\n",
        "The concepts and ideas in this notebook are tgaken from the following websites-\n",
        "\n",
        "- 1. https://facebook.github.io/prophet/\n",
        "\n",
        "- 2. https://facebook.github.io/prophet/docs/quick_start.html\n",
        "\n",
        "- 3. https://peerj.com/preprints/3190.pdf\n",
        "\n",
        "- 4. https://www.digitalocean.com/community/tutorials/a-guide-to-time-series-forecasting-with-prophet-in-python-3\n"
      ]
    },
    {
      "cell_type": "markdown",
      "metadata": {
        "_cell_guid": "79c7e3d0-c299-4dcb-8224-4455121ee9b0",
        "_uuid": "d629ff2d2480ee46fbb7e2d37f6b5fab8052498a",
        "collapsed": true,
        "id": "swyNTbG3Esds",
        "trusted": false
      },
      "source": [
        "So, now we will come to the end of this notebook.\n",
        "\n",
        "I hope you find this kernel useful and enjoyable.\n",
        "\n",
        "Your comments and feedback are most welcome.\n",
        "\n",
        "Thank you\n"
      ]
    },
    {
      "cell_type": "markdown",
      "metadata": {
        "id": "oX3zi-i5Esdt"
      },
      "source": [
        "[Go to Top](#0)"
      ]
    }
  ],
  "metadata": {
    "colab": {
      "name": "Tutorial: Time Series Forecasting with Prophet",
      "provenance": []
    },
    "kernelspec": {
      "display_name": "tf",
      "language": "python",
      "name": "python3"
    },
    "language_info": {
      "codemirror_mode": {
        "name": "ipython",
        "version": 3
      },
      "file_extension": ".py",
      "mimetype": "text/x-python",
      "name": "python",
      "nbconvert_exporter": "python",
      "pygments_lexer": "ipython3",
      "version": "3.10.13"
    }
  },
  "nbformat": 4,
  "nbformat_minor": 0
}
